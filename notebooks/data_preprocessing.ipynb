{
 "cells": [
  {
   "cell_type": "markdown",
   "id": "619f2231",
   "metadata": {},
   "source": [
    "# Setup & Imports"
   ]
  },
  {
   "cell_type": "code",
   "execution_count": 1,
   "id": "14251be0",
   "metadata": {},
   "outputs": [],
   "source": [
    "import pandas as pd\n",
    "import numpy as np\n",
    "import matplotlib.pyplot as plt\n",
    "import seaborn as sns\n",
    "from sklearn.preprocessing import StandardScaler, MinMaxScaler\n",
    "from sklearn.model_selection import train_test_split\n",
    "from sklearn.utils import resample\n",
    "from sklearn.impute import SimpleImputer\n",
    "import ipaddress\n"
   ]
  },
  {
   "cell_type": "markdown",
   "id": "55acfc92",
   "metadata": {},
   "source": [
    "# Load the Datasets"
   ]
  },
  {
   "cell_type": "code",
   "execution_count": 2,
   "id": "8a9777ee",
   "metadata": {},
   "outputs": [],
   "source": [
    "fraud_df = pd.read_csv('../data/Fraud_Data.csv')\n",
    "credit_df = pd.read_csv('../data/creditcard.csv')\n",
    "ip_df = pd.read_csv('../data/IpAddress_to_Country.csv')\n"
   ]
  },
  {
   "cell_type": "markdown",
   "id": "86ff113f",
   "metadata": {},
   "source": [
    "# Handle Missing Values"
   ]
  },
  {
   "cell_type": "code",
   "execution_count": 3,
   "id": "8123a852",
   "metadata": {},
   "outputs": [
    {
     "name": "stderr",
     "output_type": "stream",
     "text": [
      "C:\\Users\\addis\\AppData\\Local\\Temp\\ipykernel_5032\\1578621130.py:8: FutureWarning: A value is trying to be set on a copy of a DataFrame or Series through chained assignment using an inplace method.\n",
      "The behavior will change in pandas 3.0. This inplace method will never work because the intermediate object on which we are setting values always behaves as a copy.\n",
      "\n",
      "For example, when doing 'df[col].method(value, inplace=True)', try using 'df.method({col: value}, inplace=True)' or df[col] = df[col].method(value) instead, to perform the operation inplace on the original object.\n",
      "\n",
      "\n",
      "  fraud_df['browser'].fillna(fraud_df['browser'].mode()[0], inplace=True)\n"
     ]
    }
   ],
   "source": [
    "# Check for missing values\n",
    "fraud_df.isnull().sum()\n",
    "\n",
    "# Example: Drop rows with missing target or critical features\n",
    "fraud_df.dropna(subset=['class'], inplace=True)\n",
    "\n",
    "# Impute missing categorical data\n",
    "fraud_df['browser'].fillna(fraud_df['browser'].mode()[0], inplace=True)\n"
   ]
  },
  {
   "cell_type": "markdown",
   "id": "179a451a",
   "metadata": {},
   "source": [
    "# Data Cleaning"
   ]
  },
  {
   "cell_type": "code",
   "execution_count": 4,
   "id": "1e88cbc2",
   "metadata": {},
   "outputs": [],
   "source": [
    "# Remove duplicates\n",
    "fraud_df.drop_duplicates(inplace=True)\n",
    "\n",
    "# Convert datetime columns\n",
    "fraud_df['signup_time'] = pd.to_datetime(fraud_df['signup_time'])\n",
    "fraud_df['purchase_time'] = pd.to_datetime(fraud_df['purchase_time'])\n"
   ]
  },
  {
   "cell_type": "markdown",
   "id": "5d4a9749",
   "metadata": {},
   "source": [
    "# Exploratory Data Analysis (EDA)"
   ]
  },
  {
   "cell_type": "code",
   "execution_count": 5,
   "id": "472ad944",
   "metadata": {},
   "outputs": [
    {
     "data": {
      "text/plain": [
       "<Axes: title={'center': 'Fraudulent vs Non-Fraudulent Transactions'}, xlabel='class', ylabel='count'>"
      ]
     },
     "execution_count": 5,
     "metadata": {},
     "output_type": "execute_result"
    },
    {
     "data": {
      "image/png": "[encoded data removed]",
      "text/plain": [
       "<Figure size 640x480 with 1 Axes>"
      ]
     },
     "metadata": {},
     "output_type": "display_data"
    }
   ],
   "source": [
    "#Univariate\n",
    "sns.countplot(x='class', data=fraud_df)\n",
    "plt.title('Fraudulent vs Non-Fraudulent Transactions')\n",
    "\n",
    "\n",
    "#Bivariate\n",
    "sns.boxplot(x='class', y='purchase_value', data=fraud_df)\n"
   ]
  },
  {
   "cell_type": "markdown",
   "id": "dc17a46e",
   "metadata": {},
   "source": [
    "# Merge Datasets for Geolocation"
   ]
  },
  {
   "cell_type": "code",
   "execution_count": 8,
   "id": "ea381cdc",
   "metadata": {},
   "outputs": [],
   "source": [
    "# Convert IP to integer\n",
    "\n",
    "def ip_to_int(ip):\n",
    "    return int(ipaddress.ip_address(ip))\n",
    "\n",
    "fraud_df['ip_address_int'] = fraud_df['ip_address'].astype('int')\n",
    "ip_df['lower_bound_ip_address'] = ip_df['lower_bound_ip_address'].astype('int')\n",
    "ip_df['upper_bound_ip_address'] = ip_df['upper_bound_ip_address'].astype('int')\n",
    "\n",
    "# Merge with IP Ranges\n",
    "def find_country(ip, ip_ranges):\n",
    "    row = ip_ranges[(ip_ranges['lower_bound_ip_address'] <= ip) & \n",
    "                    (ip_ranges['upper_bound_ip_address'] >= ip)]\n",
    "    return row['country'].values[0] if not row.empty else 'Unknown'\n",
    "\n",
    "fraud_df['country'] = fraud_df['ip_address_int'].apply(lambda ip: find_country(ip, ip_df))\n",
    "\n",
    "\n"
   ]
  },
  {
   "cell_type": "markdown",
   "id": "df54c9e9",
   "metadata": {},
   "source": [
    "# Feature Engineering"
   ]
  },
  {
   "cell_type": "code",
   "execution_count": 9,
   "id": "3c97973e",
   "metadata": {},
   "outputs": [],
   "source": [
    "# Time-based Features\n",
    "fraud_df['hour_of_day'] = fraud_df['purchase_time'].dt.hour\n",
    "fraud_df['day_of_week'] = fraud_df['purchase_time'].dt.dayofweek\n",
    "fraud_df['time_since_signup'] = (fraud_df['purchase_time'] - fraud_df['signup_time']).dt.total_seconds()\n",
    "\n",
    "# Transaction Frequency / Velocity (Basic)\n",
    "user_txn_count = fraud_df.groupby('user_id').size().rename('user_transaction_count')\n",
    "fraud_df = fraud_df.merge(user_txn_count, on='user_id')\n"
   ]
  },
  {
   "cell_type": "markdown",
   "id": "627de9e2",
   "metadata": {},
   "source": [
    "# Handle Class Imbalance"
   ]
  },
  {
   "cell_type": "code",
   "execution_count": 10,
   "id": "b7c2d2a5",
   "metadata": {},
   "outputs": [],
   "source": [
    "# Check imbalance\n",
    "fraud_df['class'].value_counts(normalize=True)\n",
    "\n",
    "# Apply Sampling\n",
    "X = fraud_df.drop(columns=['class'])\n",
    "y = fraud_df['class']\n",
    "X_train, X_test, y_train, y_test = train_test_split(X, y, stratify=y, test_size=0.2, random_state=42)\n",
    "\n",
    "from imblearn.over_sampling import SMOTE\n",
    "smote = SMOTE(random_state=42)\n",
    "X_resampled, y_resampled = smote.fit_resample(X_train.select_dtypes(include=[np.number]), y_train)\n"
   ]
  },
  {
   "cell_type": "markdown",
   "id": "8a7872cb",
   "metadata": {},
   "source": [
    "#  Normalization and Scaling"
   ]
  },
  {
   "cell_type": "code",
   "execution_count": 11,
   "id": "530a2fc1",
   "metadata": {},
   "outputs": [],
   "source": [
    "scaler = StandardScaler()\n",
    "X_resampled_scaled = scaler.fit_transform(X_resampled)\n"
   ]
  },
  {
   "cell_type": "markdown",
   "id": "9e61e170",
   "metadata": {},
   "source": [
    "# Encode Categorical Features"
   ]
  },
  {
   "cell_type": "code",
   "execution_count": 12,
   "id": "784b9e74",
   "metadata": {},
   "outputs": [],
   "source": [
    "X_encoded = pd.get_dummies(X_train[['source', 'browser', 'sex']], drop_first=True)\n",
    "\n",
    "X_train_final = pd.concat([X_train.select_dtypes(include=[np.number]).reset_index(drop=True),\n",
    "                           X_encoded.reset_index(drop=True)], axis=1)\n"
   ]
  },
  {
   "cell_type": "markdown",
   "id": "82a4b4b4",
   "metadata": {},
   "source": [
    "# Output Processed Data"
   ]
  },
  {
   "cell_type": "code",
   "execution_count": 13,
   "id": "18c8af4f",
   "metadata": {},
   "outputs": [],
   "source": [
    "X_train_final.to_csv('../outputs/processed_data/X_train.csv', index=False)\n",
    "y_train.to_csv('../outputs/processed_data/y_train.csv', index=False)\n"
   ]
  }
 ],
 "metadata": {
  "kernelspec": {
   "display_name": "base",
   "language": "python",
   "name": "python3"
  },
  "language_info": {
   "codemirror_mode": {
    "name": "ipython",
    "version": 3
   },
   "file_extension": ".py",
   "mimetype": "text/x-python",
   "name": "python",
   "nbconvert_exporter": "python",
   "pygments_lexer": "ipython3",
   "version": "3.13.2"
  }
 },
 "nbformat": 4,
 "nbformat_minor": 5
}
